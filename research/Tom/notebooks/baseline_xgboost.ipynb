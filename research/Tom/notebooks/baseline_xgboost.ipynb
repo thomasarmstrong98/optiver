{
 "cells": [
  {
   "cell_type": "code",
   "execution_count": 1,
   "source": [
    "import pandas as pd\r\n",
    "import numpy as np\r\n",
    "import matplotlib.pyplot as plt\r\n",
    "from sklearn.metrics import r2_score\r\n",
    "import os\r\n",
    "import glob\r\n",
    "from tqdm import tqdm\r\n",
    "from joblib import Parallel, delayed\r\n",
    "\r\n",
    "from sklearn.model_selection import train_test_split, KFold\r\n",
    "from xgboost import XGBRegressor\r\n",
    "\r\n",
    "import logging\r\n",
    "logger = logging.getLogger(\"first_model\")\r\n",
    "\r\n",
    "# import helpers\r\n",
    "import sys\r\n",
    "sys.path.append(\"../../..\")\r\n",
    "from utils.data import *\r\n",
    "from utils.helpers import *\r\n",
    "from utils.setup import Config"
   ],
   "outputs": [],
   "metadata": {}
  },
  {
   "cell_type": "markdown",
   "source": [
    "## Baseline XGBoost Model\r\n",
    "Modified to run with the current setup, to see a baseline for any further models."
   ],
   "metadata": {}
  },
  {
   "cell_type": "code",
   "execution_count": 2,
   "source": [
    "train = pd.read_csv(Config.data_directory / 'train.csv')\r\n",
    "train.head()"
   ],
   "outputs": [
    {
     "output_type": "execute_result",
     "data": {
      "text/plain": [
       "   stock_id  time_id    target\n",
       "0         0        5  0.004136\n",
       "1         0       11  0.001445\n",
       "2         0       16  0.002168\n",
       "3         0       31  0.002195\n",
       "4         0       62  0.001747"
      ],
      "text/html": [
       "<div>\n",
       "<style scoped>\n",
       "    .dataframe tbody tr th:only-of-type {\n",
       "        vertical-align: middle;\n",
       "    }\n",
       "\n",
       "    .dataframe tbody tr th {\n",
       "        vertical-align: top;\n",
       "    }\n",
       "\n",
       "    .dataframe thead th {\n",
       "        text-align: right;\n",
       "    }\n",
       "</style>\n",
       "<table border=\"1\" class=\"dataframe\">\n",
       "  <thead>\n",
       "    <tr style=\"text-align: right;\">\n",
       "      <th></th>\n",
       "      <th>stock_id</th>\n",
       "      <th>time_id</th>\n",
       "      <th>target</th>\n",
       "    </tr>\n",
       "  </thead>\n",
       "  <tbody>\n",
       "    <tr>\n",
       "      <th>0</th>\n",
       "      <td>0</td>\n",
       "      <td>5</td>\n",
       "      <td>0.004136</td>\n",
       "    </tr>\n",
       "    <tr>\n",
       "      <th>1</th>\n",
       "      <td>0</td>\n",
       "      <td>11</td>\n",
       "      <td>0.001445</td>\n",
       "    </tr>\n",
       "    <tr>\n",
       "      <th>2</th>\n",
       "      <td>0</td>\n",
       "      <td>16</td>\n",
       "      <td>0.002168</td>\n",
       "    </tr>\n",
       "    <tr>\n",
       "      <th>3</th>\n",
       "      <td>0</td>\n",
       "      <td>31</td>\n",
       "      <td>0.002195</td>\n",
       "    </tr>\n",
       "    <tr>\n",
       "      <th>4</th>\n",
       "      <td>0</td>\n",
       "      <td>62</td>\n",
       "      <td>0.001747</td>\n",
       "    </tr>\n",
       "  </tbody>\n",
       "</table>\n",
       "</div>"
      ]
     },
     "metadata": {},
     "execution_count": 2
    }
   ],
   "metadata": {}
  },
  {
   "cell_type": "code",
   "execution_count": 3,
   "source": [
    "def get_trade_and_book_by_stock_and_time_id(stock_id, time_id=None, dataType = 'train'):\r\n",
    "    book_example = pd.read_parquet(f'{Config.data_directory}/book_{dataType}.parquet/stock_id={stock_id}')\r\n",
    "    trade_example =  pd.read_parquet(f'{Config.data_directory}/trade_{dataType}.parquet/stock_id={stock_id}')\r\n",
    "    if time_id:\r\n",
    "        book_example = book_example[book_example['time_id']==time_id]\r\n",
    "        trade_example = trade_example[trade_example['time_id']==time_id]\r\n",
    "    book_example.loc[:,'stock_id'] = stock_id\r\n",
    "    trade_example.loc[:,'stock_id'] = stock_id\r\n",
    "    return book_example, trade_example"
   ],
   "outputs": [],
   "metadata": {}
  },
  {
   "cell_type": "code",
   "execution_count": 4,
   "source": [
    "def calculate_wap1(df):\r\n",
    "    a1 = df['bid_price1'] * df['ask_size1'] + df['ask_price1'] * df['bid_size1']\r\n",
    "    b1 = df['bid_size1'] + df['ask_size1']\r\n",
    "    a2 = df['bid_price2'] * df['ask_size2'] + df['ask_price2'] * df['bid_size2']\r\n",
    "    b2 = df['bid_size2'] + df['ask_size2']\r\n",
    "    \r\n",
    "    x = (a1/b1 + a2/b2)/ 2\r\n",
    "    \r\n",
    "    return x\r\n",
    "\r\n",
    "\r\n",
    "def calculate_wap2(df):\r\n",
    "        \r\n",
    "    a1 = df['bid_price1'] * df['ask_size1'] + df['ask_price1'] * df['bid_size1']\r\n",
    "    a2 = df['bid_price2'] * df['ask_size2'] + df['ask_price2'] * df['bid_size2']\r\n",
    "    b = df['bid_size1'] + df['ask_size1'] + df['bid_size2']+ df['ask_size2']\r\n",
    "    \r\n",
    "    x = (a1 + a2)/ b\r\n",
    "    return x\r\n",
    "\r\n",
    "def realized_volatility_per_time_id(file_path, prediction_column_name):\r\n",
    "\r\n",
    "    stock_id = file_path.split('=')[1]\r\n",
    "\r\n",
    "    df_book = pd.read_parquet(file_path)\r\n",
    "    df_book['wap1'] = calculate_wap1(df_book)\r\n",
    "    df_book['wap2'] = calculate_wap2(df_book)\r\n",
    "\r\n",
    "    df_book['log_return1'] = df_book.groupby(['time_id'])['wap1'].apply(log_return)\r\n",
    "    df_book['log_return2'] = df_book.groupby(['time_id'])['wap2'].apply(log_return)\r\n",
    "    df_book = df_book[~df_book['log_return1'].isnull()]\r\n",
    "\r\n",
    "    df_rvps =  pd.DataFrame(df_book.groupby(['time_id'])[['log_return1', 'log_return2']].agg(realized_volatility)).reset_index()\r\n",
    "    df_rvps[prediction_column_name] = 0.6 * df_rvps['log_return1'] + 0.4 * df_rvps['log_return2']\r\n",
    "\r\n",
    "    df_rvps['row_id'] = df_rvps['time_id'].apply(lambda x:f'{stock_id}-{x}')\r\n",
    "    \r\n",
    "    return df_rvps[['row_id',prediction_column_name]]"
   ],
   "outputs": [],
   "metadata": {}
  },
  {
   "cell_type": "code",
   "execution_count": 5,
   "source": [
    "def get_agg_info(df):\r\n",
    "    agg_df = df.groupby(['stock_id', 'time_id']).agg(mean_sec_in_bucket = ('seconds_in_bucket', 'mean'), \r\n",
    "                                                     mean_price = ('price', 'mean'),\r\n",
    "                                                     mean_size = ('size', 'mean'),\r\n",
    "                                                     mean_order = ('order_count', 'mean'),\r\n",
    "                                                     max_sec_in_bucket = ('seconds_in_bucket', 'max'), \r\n",
    "                                                     max_price = ('price', 'max'),\r\n",
    "                                                     max_size = ('size', 'max'),\r\n",
    "                                                     max_order = ('order_count', 'max'),\r\n",
    "                                                     min_sec_in_bucket = ('seconds_in_bucket', 'min'), \r\n",
    "                                                     min_price = ('price', 'min'),\r\n",
    "                                                     median_sec_in_bucket = ('seconds_in_bucket', 'median'), \r\n",
    "                                                     median_price = ('price', 'median'),\r\n",
    "                                                     median_size = ('size', 'median'),\r\n",
    "                                                     median_order = ('order_count', 'median')\r\n",
    "                                                    ).reset_index()\r\n",
    "    \r\n",
    "    return agg_df"
   ],
   "outputs": [],
   "metadata": {}
  },
  {
   "cell_type": "code",
   "execution_count": 9,
   "source": [
    "def get_stock_stat(stock_id : int, dataType = 'train'):\r\n",
    "    \r\n",
    "    book_subset, trade_subset = get_trade_and_book_by_stock_and_time_id(stock_id, dataType=dataType)\r\n",
    "    book_subset.sort_values(by=['time_id', 'seconds_in_bucket'])\r\n",
    "\r\n",
    "    ## book data processing\r\n",
    "    \r\n",
    "    book_subset['bas'] = (book_subset[['ask_price1', 'ask_price2']].min(axis = 1)\r\n",
    "                                / book_subset[['bid_price1', 'bid_price2']].max(axis = 1)\r\n",
    "                                - 1)                               \r\n",
    "\r\n",
    "    \r\n",
    "    book_subset['wap1'] = calculate_wap1(book_subset)\r\n",
    "    book_subset['wap2'] = calculate_wap2(book_subset)\r\n",
    "    \r\n",
    "    book_subset['log_return_bid_price1'] = np.log(book_subset['bid_price1'].pct_change() + 1)\r\n",
    "    book_subset['log_return_ask_price1'] = np.log(book_subset['ask_price1'].pct_change() + 1)\r\n",
    "    book_subset['log_return_bid_size1'] = np.log(book_subset['bid_size1'].pct_change() + 1)\r\n",
    "    book_subset['log_return_ask_size1'] = np.log(book_subset['ask_size1'].pct_change() + 1)\r\n",
    "    book_subset['log_ask_1_div_bid_1'] = np.log(book_subset['ask_price1'] / book_subset['bid_price1'])\r\n",
    "    book_subset['log_ask_1_div_bid_1_size'] = np.log(book_subset['ask_size1'] / book_subset['bid_size1'])\r\n",
    "    \r\n",
    "\r\n",
    "    book_subset['log_return1'] = (book_subset.groupby(by = ['time_id'])['wap1'].\r\n",
    "                                  apply(log_return).\r\n",
    "                                  reset_index(drop = True).\r\n",
    "                                  fillna(0)\r\n",
    "                                 )\r\n",
    "    book_subset['log_return2'] = (book_subset.groupby(by = ['time_id'])['wap2'].\r\n",
    "                                  apply(log_return).\r\n",
    "                                  reset_index(drop = True).\r\n",
    "                                  fillna(0)\r\n",
    "                                 )\r\n",
    "    \r\n",
    "    stock_stat = pd.merge(\r\n",
    "        book_subset.groupby(by = ['time_id'])['log_return1'].agg(realized_volatility).reset_index(),\r\n",
    "        book_subset.groupby(by = ['time_id'], as_index = False)['bas'].mean(),\r\n",
    "        on = ['time_id'],\r\n",
    "        how = 'left'\r\n",
    "    )\r\n",
    "    \r\n",
    "    stock_stat = pd.merge(\r\n",
    "        stock_stat,\r\n",
    "        book_subset.groupby(by = ['time_id'])['log_return2'].agg(realized_volatility).reset_index(),\r\n",
    "        on = ['time_id'],\r\n",
    "        how = 'left'\r\n",
    "    )\r\n",
    "    \r\n",
    "    stock_stat = pd.merge(\r\n",
    "        stock_stat,\r\n",
    "        book_subset.groupby(by = ['time_id'])['log_return_bid_price1'].agg(realized_volatility).reset_index(),\r\n",
    "        on = ['time_id'],\r\n",
    "        how = 'left'\r\n",
    "    )\r\n",
    "    stock_stat = pd.merge(\r\n",
    "        stock_stat,\r\n",
    "        book_subset.groupby(by = ['time_id'])['log_return_ask_price1'].agg(realized_volatility).reset_index(),\r\n",
    "        on = ['time_id'],\r\n",
    "        how = 'left'\r\n",
    "    )\r\n",
    "    stock_stat = pd.merge(\r\n",
    "        stock_stat,\r\n",
    "        book_subset.groupby(by = ['time_id'])['log_return_bid_size1'].agg(realized_volatility).reset_index(),\r\n",
    "        on = ['time_id'],\r\n",
    "        how = 'left'\r\n",
    "    )\r\n",
    "    stock_stat = pd.merge(\r\n",
    "        stock_stat,\r\n",
    "        book_subset.groupby(by = ['time_id'])['log_return_ask_size1'].agg(realized_volatility).reset_index(),\r\n",
    "        on = ['time_id'],\r\n",
    "        how = 'left'\r\n",
    "    )\r\n",
    "    \r\n",
    "    stock_stat = pd.merge(\r\n",
    "        stock_stat,\r\n",
    "        book_subset.groupby(by = ['time_id'])['log_ask_1_div_bid_1'].agg(realized_volatility).reset_index(),\r\n",
    "        on = ['time_id'],\r\n",
    "        how = 'left'\r\n",
    "    )\r\n",
    "    stock_stat = pd.merge(\r\n",
    "        stock_stat,\r\n",
    "        book_subset.groupby(by = ['time_id'])['log_ask_1_div_bid_1_size'].agg(realized_volatility).reset_index(),\r\n",
    "        on = ['time_id'],\r\n",
    "        how = 'left'\r\n",
    "    )\r\n",
    "    \r\n",
    "    \r\n",
    "    stock_stat['stock_id'] = stock_id\r\n",
    "    \r\n",
    "    # Additional features that can be added. Referenced from https://www.kaggle.com/yus002/realized-volatility-prediction-lgbm-train/data\r\n",
    "    \r\n",
    "    # trade_subset_agg = get_agg_info(trade_subset)\r\n",
    "    \r\n",
    "    #     stock_stat = pd.merge(\r\n",
    "    #         stock_stat,\r\n",
    "    #         trade_subset_agg,\r\n",
    "    #         on = ['stock_id', 'time_id'],\r\n",
    "    #         how = 'left'\r\n",
    "    #     )\r\n",
    "    \r\n",
    "    ## trade data processing \r\n",
    "    \r\n",
    "    return stock_stat\r\n",
    "\r\n",
    "def get_data_set(stock_ids : list, dataType = 'train'):\r\n",
    "\r\n",
    "    stock_stat = Parallel(n_jobs=None)(\r\n",
    "        delayed(get_stock_stat)(stock_id, dataType) \r\n",
    "        for stock_id in stock_ids\r\n",
    "    )\r\n",
    "    \r\n",
    "    stock_stat_df = pd.concat(stock_stat, ignore_index = True)\r\n",
    "\r\n",
    "    return stock_stat_df"
   ],
   "outputs": [],
   "metadata": {}
  },
  {
   "cell_type": "code",
   "execution_count": 10,
   "source": [
    "%%time # takes like 20 min, comment out if already ran and saved previously\r\n",
    "train_stock_stat_df = get_data_set(train.stock_id.unique(), dataType = 'train')\r\n",
    "train_stock_stat_df.head()"
   ],
   "outputs": [
    {
     "output_type": "stream",
     "name": "stdout",
     "text": [
      "Wall time: 19min 17s\n"
     ]
    },
    {
     "output_type": "execute_result",
     "data": {
      "text/plain": [
       "   time_id  log_return1       bas  log_return2  log_return_bid_price1  \\\n",
       "0        5     0.004115  0.000852     0.004106               0.002602   \n",
       "1       11     0.001268  0.000394     0.001507               0.003793   \n",
       "2       16     0.002719  0.000725     0.002469               0.001697   \n",
       "3       31     0.002625  0.000861     0.002709               0.002992   \n",
       "4       62     0.001901  0.000397     0.001932               0.002536   \n",
       "\n",
       "   log_return_ask_price1  log_return_bid_size1  log_return_ask_size1  \\\n",
       "0               0.002476             25.371834             29.772642   \n",
       "1               0.003685             17.557256             16.155779   \n",
       "2               0.001792             14.737648             11.275511   \n",
       "3               0.002740             13.412586              9.774892   \n",
       "4               0.001926             23.797381             17.759397   \n",
       "\n",
       "   log_ask_1_div_bid_1  log_ask_1_div_bid_1_size  stock_id  \n",
       "0             0.015251                 47.173981         0  \n",
       "1             0.005999                 39.853464         0  \n",
       "2             0.010191                 29.314081         0  \n",
       "3             0.009908                 26.981808         0  \n",
       "4             0.005543                 36.746812         0  "
      ],
      "text/html": [
       "<div>\n",
       "<style scoped>\n",
       "    .dataframe tbody tr th:only-of-type {\n",
       "        vertical-align: middle;\n",
       "    }\n",
       "\n",
       "    .dataframe tbody tr th {\n",
       "        vertical-align: top;\n",
       "    }\n",
       "\n",
       "    .dataframe thead th {\n",
       "        text-align: right;\n",
       "    }\n",
       "</style>\n",
       "<table border=\"1\" class=\"dataframe\">\n",
       "  <thead>\n",
       "    <tr style=\"text-align: right;\">\n",
       "      <th></th>\n",
       "      <th>time_id</th>\n",
       "      <th>log_return1</th>\n",
       "      <th>bas</th>\n",
       "      <th>log_return2</th>\n",
       "      <th>log_return_bid_price1</th>\n",
       "      <th>log_return_ask_price1</th>\n",
       "      <th>log_return_bid_size1</th>\n",
       "      <th>log_return_ask_size1</th>\n",
       "      <th>log_ask_1_div_bid_1</th>\n",
       "      <th>log_ask_1_div_bid_1_size</th>\n",
       "      <th>stock_id</th>\n",
       "    </tr>\n",
       "  </thead>\n",
       "  <tbody>\n",
       "    <tr>\n",
       "      <th>0</th>\n",
       "      <td>5</td>\n",
       "      <td>0.004115</td>\n",
       "      <td>0.000852</td>\n",
       "      <td>0.004106</td>\n",
       "      <td>0.002602</td>\n",
       "      <td>0.002476</td>\n",
       "      <td>25.371834</td>\n",
       "      <td>29.772642</td>\n",
       "      <td>0.015251</td>\n",
       "      <td>47.173981</td>\n",
       "      <td>0</td>\n",
       "    </tr>\n",
       "    <tr>\n",
       "      <th>1</th>\n",
       "      <td>11</td>\n",
       "      <td>0.001268</td>\n",
       "      <td>0.000394</td>\n",
       "      <td>0.001507</td>\n",
       "      <td>0.003793</td>\n",
       "      <td>0.003685</td>\n",
       "      <td>17.557256</td>\n",
       "      <td>16.155779</td>\n",
       "      <td>0.005999</td>\n",
       "      <td>39.853464</td>\n",
       "      <td>0</td>\n",
       "    </tr>\n",
       "    <tr>\n",
       "      <th>2</th>\n",
       "      <td>16</td>\n",
       "      <td>0.002719</td>\n",
       "      <td>0.000725</td>\n",
       "      <td>0.002469</td>\n",
       "      <td>0.001697</td>\n",
       "      <td>0.001792</td>\n",
       "      <td>14.737648</td>\n",
       "      <td>11.275511</td>\n",
       "      <td>0.010191</td>\n",
       "      <td>29.314081</td>\n",
       "      <td>0</td>\n",
       "    </tr>\n",
       "    <tr>\n",
       "      <th>3</th>\n",
       "      <td>31</td>\n",
       "      <td>0.002625</td>\n",
       "      <td>0.000861</td>\n",
       "      <td>0.002709</td>\n",
       "      <td>0.002992</td>\n",
       "      <td>0.002740</td>\n",
       "      <td>13.412586</td>\n",
       "      <td>9.774892</td>\n",
       "      <td>0.009908</td>\n",
       "      <td>26.981808</td>\n",
       "      <td>0</td>\n",
       "    </tr>\n",
       "    <tr>\n",
       "      <th>4</th>\n",
       "      <td>62</td>\n",
       "      <td>0.001901</td>\n",
       "      <td>0.000397</td>\n",
       "      <td>0.001932</td>\n",
       "      <td>0.002536</td>\n",
       "      <td>0.001926</td>\n",
       "      <td>23.797381</td>\n",
       "      <td>17.759397</td>\n",
       "      <td>0.005543</td>\n",
       "      <td>36.746812</td>\n",
       "      <td>0</td>\n",
       "    </tr>\n",
       "  </tbody>\n",
       "</table>\n",
       "</div>"
      ]
     },
     "metadata": {},
     "execution_count": 10
    }
   ],
   "metadata": {}
  },
  {
   "cell_type": "code",
   "execution_count": 11,
   "source": [
    "train_stock_stat_df.to_pickle(\"../tmp/baseline_book_data.pickle\")  # save to not re-run later"
   ],
   "outputs": [],
   "metadata": {}
  },
  {
   "cell_type": "code",
   "execution_count": 12,
   "source": [
    "train_stock_stat_df = pd.read_pickle(\"../tmp/baseline_book_data.pickle\")"
   ],
   "outputs": [],
   "metadata": {}
  },
  {
   "cell_type": "code",
   "execution_count": 13,
   "source": [
    "train_data_set = pd.merge(train, train_stock_stat_df, on = ['stock_id', 'time_id'], how = 'left')\r\n",
    "\r\n",
    "X_display = train_data_set.drop(['stock_id', 'time_id', 'target'], axis = 1)\r\n",
    "X = X_display.values\r\n",
    "y = train_data_set['target'].values\r\n",
    "\r\n",
    "X.shape, y.shape"
   ],
   "outputs": [
    {
     "output_type": "execute_result",
     "data": {
      "text/plain": [
       "((428932, 9), (428932,))"
      ]
     },
     "metadata": {},
     "execution_count": 13
    }
   ],
   "metadata": {}
  },
  {
   "cell_type": "code",
   "execution_count": 14,
   "source": [
    "X_train, X_test, y_train, y_test = train_test_split(X, y, test_size=0.2, random_state=Config.random_state, shuffle=False)\r\n",
    "X_train.shape, X_test.shape, y_train.shape, y_test.shape"
   ],
   "outputs": [
    {
     "output_type": "execute_result",
     "data": {
      "text/plain": [
       "((343145, 9), (85787, 9), (343145,), (85787,))"
      ]
     },
     "metadata": {},
     "execution_count": 14
    }
   ],
   "metadata": {}
  },
  {
   "cell_type": "code",
   "execution_count": 15,
   "source": [
    "xgb = XGBRegressor(tree_method='hist', random_state = Config.random_state, n_jobs= - 1)"
   ],
   "outputs": [],
   "metadata": {}
  },
  {
   "cell_type": "code",
   "execution_count": 16,
   "source": [
    "%%time\r\n",
    "xgb.fit(X_train, y_train)"
   ],
   "outputs": [
    {
     "output_type": "stream",
     "name": "stdout",
     "text": [
      "Wall time: 1.24 s\n"
     ]
    },
    {
     "output_type": "execute_result",
     "data": {
      "text/plain": [
       "XGBRegressor(base_score=0.5, booster='gbtree', colsample_bylevel=1,\n",
       "             colsample_bynode=1, colsample_bytree=1, gamma=0, gpu_id=-1,\n",
       "             importance_type='gain', interaction_constraints='',\n",
       "             learning_rate=0.300000012, max_delta_step=0, max_depth=6,\n",
       "             min_child_weight=1, missing=nan, monotone_constraints='()',\n",
       "             n_estimators=100, n_jobs=-1, num_parallel_tree=1, random_state=420,\n",
       "             reg_alpha=0, reg_lambda=1, scale_pos_weight=1, subsample=1,\n",
       "             tree_method='hist', validate_parameters=1, verbosity=None)"
      ]
     },
     "metadata": {},
     "execution_count": 16
    }
   ],
   "metadata": {}
  },
  {
   "cell_type": "code",
   "execution_count": 17,
   "source": [
    "xgb_preds = xgb.predict(X_test)\r\n",
    "R2 = round(r2_score(y_true = y_test, y_pred = xgb_preds), 6)\r\n",
    "RMSPE = round(rmspe(y_true = y_test, y_pred = xgb_preds), 6)\r\n",
    "print(f'Performance of the naive XGBOOST prediction: R2 score: {R2}, RMSPE: {RMSPE}')"
   ],
   "outputs": [
    {
     "output_type": "stream",
     "name": "stdout",
     "text": [
      "Performance of the naive XGBOOST prediction: R2 score: 0.781913, RMSPE: 0.285728\n"
     ]
    }
   ],
   "metadata": {}
  },
  {
   "cell_type": "code",
   "execution_count": 18,
   "source": [
    "def plot_feature_importance(df, model):\r\n",
    "    feature_importances_df = pd.DataFrame({\r\n",
    "        'feature': df.columns,\r\n",
    "        'importance_score': model.feature_importances_\r\n",
    "    })\r\n",
    "    plt.rcParams[\"figure.figsize\"] = [10, 5]\r\n",
    "    ax = sns.barplot(x = \"feature\", y = \"importance_score\", data = feature_importances_df)\r\n",
    "    ax.set(xlabel=\"Features\", ylabel = \"Importance Score\")\r\n",
    "    plt.xticks(rotation=45)\r\n",
    "    plt.show()\r\n",
    "    return feature_importances_df"
   ],
   "outputs": [],
   "metadata": {}
  },
  {
   "cell_type": "code",
   "execution_count": 20,
   "source": [
    "import seaborn as sns\r\n",
    "plot_feature_importance(X_display, xgb)"
   ],
   "outputs": [
    {
     "output_type": "display_data",
     "data": {
      "text/plain": [
       "<Figure size 720x360 with 1 Axes>"
      ],
      "image/png": "[encoded data removed]"
     },
     "metadata": {
      "needs_background": "light"
     }
    },
    {
     "output_type": "execute_result",
     "data": {
      "text/plain": [
       "                    feature  importance_score\n",
       "0               log_return1          0.582276\n",
       "1                       bas          0.009393\n",
       "2               log_return2          0.224372\n",
       "3     log_return_bid_price1          0.008529\n",
       "4     log_return_ask_price1          0.008299\n",
       "5      log_return_bid_size1          0.011557\n",
       "6      log_return_ask_size1          0.011401\n",
       "7       log_ask_1_div_bid_1          0.132198\n",
       "8  log_ask_1_div_bid_1_size          0.011976"
      ],
      "text/html": [
       "<div>\n",
       "<style scoped>\n",
       "    .dataframe tbody tr th:only-of-type {\n",
       "        vertical-align: middle;\n",
       "    }\n",
       "\n",
       "    .dataframe tbody tr th {\n",
       "        vertical-align: top;\n",
       "    }\n",
       "\n",
       "    .dataframe thead th {\n",
       "        text-align: right;\n",
       "    }\n",
       "</style>\n",
       "<table border=\"1\" class=\"dataframe\">\n",
       "  <thead>\n",
       "    <tr style=\"text-align: right;\">\n",
       "      <th></th>\n",
       "      <th>feature</th>\n",
       "      <th>importance_score</th>\n",
       "    </tr>\n",
       "  </thead>\n",
       "  <tbody>\n",
       "    <tr>\n",
       "      <th>0</th>\n",
       "      <td>log_return1</td>\n",
       "      <td>0.582276</td>\n",
       "    </tr>\n",
       "    <tr>\n",
       "      <th>1</th>\n",
       "      <td>bas</td>\n",
       "      <td>0.009393</td>\n",
       "    </tr>\n",
       "    <tr>\n",
       "      <th>2</th>\n",
       "      <td>log_return2</td>\n",
       "      <td>0.224372</td>\n",
       "    </tr>\n",
       "    <tr>\n",
       "      <th>3</th>\n",
       "      <td>log_return_bid_price1</td>\n",
       "      <td>0.008529</td>\n",
       "    </tr>\n",
       "    <tr>\n",
       "      <th>4</th>\n",
       "      <td>log_return_ask_price1</td>\n",
       "      <td>0.008299</td>\n",
       "    </tr>\n",
       "    <tr>\n",
       "      <th>5</th>\n",
       "      <td>log_return_bid_size1</td>\n",
       "      <td>0.011557</td>\n",
       "    </tr>\n",
       "    <tr>\n",
       "      <th>6</th>\n",
       "      <td>log_return_ask_size1</td>\n",
       "      <td>0.011401</td>\n",
       "    </tr>\n",
       "    <tr>\n",
       "      <th>7</th>\n",
       "      <td>log_ask_1_div_bid_1</td>\n",
       "      <td>0.132198</td>\n",
       "    </tr>\n",
       "    <tr>\n",
       "      <th>8</th>\n",
       "      <td>log_ask_1_div_bid_1_size</td>\n",
       "      <td>0.011976</td>\n",
       "    </tr>\n",
       "  </tbody>\n",
       "</table>\n",
       "</div>"
      ]
     },
     "metadata": {},
     "execution_count": 20
    }
   ],
   "metadata": {}
  },
  {
   "cell_type": "code",
   "execution_count": null,
   "source": [],
   "outputs": [],
   "metadata": {}
  }
 ],
 "metadata": {
  "interpreter": {
   "hash": "dc5307bef5f7dd3c6f8bc7bde35c8acc82dff52a1a4726ed5a6c4617154e205d"
  },
  "kernelspec": {
   "display_name": "Python 3.8.10 64-bit ('optiver': conda)",
   "name": "python3"
  },
  "language_info": {
   "codemirror_mode": {
    "name": "ipython",
    "version": 3
   },
   "file_extension": ".py",
   "mimetype": "text/x-python",
   "name": "python",
   "nbconvert_exporter": "python",
   "pygments_lexer": "ipython3",
   "version": "3.8.10"
  },
  "orig_nbformat": 4
 },
 "nbformat": 4,
 "nbformat_minor": 2
}